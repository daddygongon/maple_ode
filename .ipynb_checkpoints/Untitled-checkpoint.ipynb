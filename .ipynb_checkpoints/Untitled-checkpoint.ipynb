{
 "cells": [
  {
   "cell_type": "markdown",
   "metadata": {
    "toc": "true"
   },
   "source": [
    "# Table of Contents\n",
    " <p><div class=\"lev1 toc-item\"><a href=\"#重力場中の運動\" data-toc-modified-id=\"重力場中の運動-1\"><span class=\"toc-item-num\">1&nbsp;&nbsp;</span>重力場中の運動</a></div><div class=\"lev1 toc-item\"><a href=\"#Euler法\" data-toc-modified-id=\"Euler法-2\"><span class=\"toc-item-num\">2&nbsp;&nbsp;</span>Euler法</a></div><div class=\"lev1 toc-item\"><a href=\"#重力場中の運動をEuler法で解いたら\" data-toc-modified-id=\"重力場中の運動をEuler法で解いたら-3\"><span class=\"toc-item-num\">3&nbsp;&nbsp;</span>重力場中の運動をEuler法で解いたら</a></div><div class=\"lev1 toc-item\"><a href=\"#空気抵抗がある水滴の落下\" data-toc-modified-id=\"空気抵抗がある水滴の落下-4\"><span class=\"toc-item-num\">4&nbsp;&nbsp;</span>空気抵抗がある水滴の落下</a></div><div class=\"lev1 toc-item\"><a href=\"#バネの運動\" data-toc-modified-id=\"バネの運動-5\"><span class=\"toc-item-num\">5&nbsp;&nbsp;</span>バネの運動</a></div><div class=\"lev1 toc-item\"><a href=\"#電気回路の応答\" data-toc-modified-id=\"電気回路の応答-6\"><span class=\"toc-item-num\">6&nbsp;&nbsp;</span>電気回路の応答</a></div>"
   ]
  },
  {
   "cell_type": "markdown",
   "metadata": {},
   "source": [
    "# 重力場中の運動\n",
    "重力場中のボールの落下を考えて，１軸で考えた運動方程式を立てます．\n",
    "\n",
    "$$\n",
    "v_x = \\frac{dx}{dt} \\\\\n",
    "a_x = \\frac{d^2 x}{dt^2}\n",
    "$$\n",
    "質量を$m$, 重力加速度を$g$として，働く力が$F=-mg$であるとすると，ニュートンの運動方程式$F=ma$は，\n",
    "\n",
    "$$ \n",
    "m \\frac{d^2 x}{dt^2} = -mg\n",
    "$$\n",
    "となります．\n"
   ]
  },
  {
   "cell_type": "markdown",
   "metadata": {},
   "source": [
    "# Euler法\n",
    "オイラー法では微分を次のように近似します．\n",
    "\n",
    "$$\n",
    "\\frac{dx}{dt} \\simeq\\frac{x(t+\\delta t)-x(t)}{dt}\n",
    "$$\n",
    "上の方程式は，テイラー級数展開して，\n",
    "\n",
    "$$\n",
    "x(t+\\delta t) \\simeq =x(t) + \\frac{dx}{dt} \\delta x\n",
    "$$\n",
    "となります．1次の微分方程式はdx/dt=f(x,t)なので，計算アルゴリズムはつぎのようになります，\n",
    "\n",
    "$$\n",
    "x_{i+1} = x_i + f_i \\delta x\n",
    "$$\n",
    "ここで，$f_i$は点($x_i, t_i$)における関数の値です．これを重力場中の運動方程式に適用します．"
   ]
  },
  {
   "cell_type": "markdown",
   "metadata": {},
   "source": [
    "# 重力場中の運動をEuler法で解いたら\n",
    "Euler法は一階の微分方程式に対する定式化をしています．ところが，重力場中の運動は2階の微分方程式です．このようなときには媒介変数を導入して1次連立方程式に置き直します．媒介変数は速度$v$をとって，\n",
    "\n",
    "$$\n",
    "x_{i+1} = x_i + v_i \\delta x \\\\\n",
    "v_{i+1} = v_i + a_i \\delta x\n",
    "$$\n",
    "となります．これをMapleで関数にして，さらに計算結果を表示させてみます．"
   ]
  },
  {
   "cell_type": "code",
   "execution_count": null,
   "metadata": {
    "collapsed": true
   },
   "outputs": [],
   "source": [
    "Euler2 := proc (x_i, v_i)\n",
    "  local v_ip1, x_ip1;\n",
    "  global a, dx;\n",
    "  v_ip1 := v_i + a * dx;\n",
    "  x_ip1 := x_i + v_i * dx;\n",
    "  return x_ip1, v_ip1;\n",
    "end;"
   ]
  },
  {
   "cell_type": "markdown",
   "metadata": {},
   "source": [
    "Euler2はx_i, v_iを受け取って，先ほど導いた簡単な計算によって，v_i+1, x_i+1を順次計算して返します．結果は，"
   ]
  },
  {
   "cell_type": "code",
   "execution_count": 3,
   "metadata": {},
   "outputs": [
    {
     "name": "stdout",
     "output_type": "stream",
     "text": [
      "SyntaxError: unexpected '=', expecting tSTRING_CONTENT or tSTRING_DBEG or tSTRING_DVAR or tSTRING_END\n",
      "vv:=[0];\n",
      "    ^\n"
     ]
    }
   ],
   "source": [
    "dx:=0.1;a:=-0.1; \n",
    "vv:=[0];\n",
    "xx:=[2]; \n",
    "\n",
    "for i from 2 to 100 do\n",
    "  x, y := Euler2(xx[i-1],vv[i-1]);\n",
    "  xx :=[op(xx),x]; \n",
    "  vv :=[op(vv),y]; \n",
    "end do:\n",
    "\n",
    "with(plots):\n",
    "listplot(xx);\n",
    "listplot(vv);"
   ]
  },
  {
   "cell_type": "markdown",
   "metadata": {},
   "source": [
    "# 空気抵抗がある水滴の落下\n",
    "ballの落下ではわかりにくいですが，より小さな体積の水滴では，空気抵抗が速度に比例する空気抵抗が効いてきます．この様子を見ましょう．微分方程式では，\n",
    "\n",
    "$$\n",
    "F_x = - C v_x\n",
    "$$\n",
    "\n",
    "項が付与されます．そうすると運動方程式は\n",
    "\n",
    "$$\n",
    "m \\frac{dv_x}{dt} = - C v_x - mg\n",
    "$$\n",
    "となります．これにともなったv_xの時間変化に対して，今までは単純に重力加速していたのが，v_xに比例する空気抵抗を記述する項が付与されます．この変化をEuler2に入れ込むと少しの修正ですが，結果は劇的に変化します．"
   ]
  },
  {
   "cell_type": "code",
   "execution_count": null,
   "metadata": {
    "collapsed": true
   },
   "outputs": [],
   "source": [
    "Euler2 := proc (x_i, v_i)\n",
    "  local v_ip1, x_ip1;\n",
    "  global a, dx;\n",
    "  v_ip1 := v_i - v_i * cc + a * dx;\n",
    "  x_ip1 := x_i + v_i * dx;\n",
    "  return x_ip1, v_ip1;\n",
    "end;"
   ]
  },
  {
   "cell_type": "markdown",
   "metadata": {},
   "source": [
    "# バネの運動\n",
    "今度はバネの運動です．空気抵抗との違いはほんの少しで，\n",
    "\n",
    "$$\n",
    "F_x = -k x\n",
    "$$\n",
    "と今度は，位置xに力が比例することです．そうすると運動方程式は，\n",
    "\n",
    "$$\n",
    "m \\frac{dv_x}{dt} = - k x\n",
    "$$\n",
    "となります．\n",
    "\n",
    "さらに空気抵抗まで考えると\n",
    "\n",
    "$$\n",
    "F_x = -k x - C v_x\n",
    "$$\n",
    "となり，運動方程式は，\n",
    "\n",
    "$$\n",
    "m \\frac{dv_x}{dt} = - k x - C v_x\n",
    "$$\n",
    "となります．\n",
    "\n",
    "\n"
   ]
  },
  {
   "cell_type": "code",
   "execution_count": null,
   "metadata": {
    "collapsed": true
   },
   "outputs": [],
   "source": [
    "Euler2 := proc (x_i, v_i)\n",
    "  local v_ip1, x_ip1;\n",
    "  global k, cc, dx;\n",
    "  v_ip1 := v_i - k * x_i - v_i * cc;\n",
    "  x_ip1 := x_i + v_i * dx;\n",
    "  return x_ip1, v_ip1;\n",
    "end;\n",
    "\n",
    "Euler2 := proc (x_i, v_i)\n",
    "  local v_ip1, x_ip1;\n",
    "  global k, cc, dx;\n",
    "  v_ip1 := v_i - k * x_i - v_i * cc;\n",
    "  x_ip1 := x_i + v_i * dx;\n",
    "  return x_ip1, v_ip1;\n",
    "end;\n"
   ]
  },
  {
   "cell_type": "markdown",
   "metadata": {},
   "source": [
    "# 電気回路の応答\n",
    "電気回路の応答を考えましょう．LRCをふたつずつ組み合わせてみていくのが常套手段なんですが，一個ずつだと面倒なので，まずは全部入れた方程式を立てます．そこからパラメータを変えて回路の挙動を観察します．こんなとこから進めていけるのが，数値計算の利点です．どんなんでも解けるから．でも，誤差は積もるよ．．．それは後で議論します．\n",
    "\n",
    "コンデンサに蓄えられた電荷を$Q(t)$, 回路に流れる電流を$I(t)$とします．\n",
    "\n",
    "* 自己インダクタンス$L$のコイルにかかる電圧は$L \\frac{dI}{dt}$\n",
    "* 容量$C$のコンデンサにかかる電圧は$\\frac{Q}{C}$\n",
    "* 抵抗値$R$の抵抗に掛かる電圧は$RI$\n",
    "\n",
    "となります．コイルにかかる電圧，コンデンサにかかる電圧，抵抗にかかる電圧の和が，この回路にかけた電圧$V(t)$であることを使うと，\n",
    "\n",
    "$$\n",
    "L \\frac{dI}{dt} + \\frac{Q}{C} + RI = V(t)\n",
    "$$\n",
    "\n",
    "となります．ここで電流$I$とコンデンサの電荷$Q$の関係$I=\\frac{dQ}{dt}$を使うと，\n",
    "\n",
    "$$\n",
    "L \\frac{d^2Q}{dt^2} + \\frac{Q}{C} + R\\frac{dQ}{dt} = V{t}\n",
    "$$\n",
    "が得られます．\n",
    "\n",
    "先ほどの重力系の問題と比べると\n",
    "\n",
    "$$\n",
    "v \\rightarrow i \\\\\n",
    "x \\rightarrow q\n",
    "$$\n",
    "と置き換えれば良さそうです．\n",
    "\n",
    "そうするとアルゴリズムは，\n",
    "```\n",
    "v_ip1 = v_i \n",
    "q_ip1 = q_i + \n",
    "```"
   ]
  },
  {
   "cell_type": "code",
   "execution_count": null,
   "metadata": {
    "collapsed": true
   },
   "outputs": [],
   "source": []
  }
 ],
 "metadata": {
  "kernelspec": {
   "display_name": "Ruby 2.2.2",
   "language": "ruby",
   "name": "ruby"
  },
  "language_info": {
   "file_extension": ".rb",
   "mimetype": "application/x-ruby",
   "name": "ruby",
   "version": "2.2.2"
  },
  "toc": {
   "colors": {
    "hover_highlight": "#DAA520",
    "navigate_num": "#000000",
    "navigate_text": "#333333",
    "running_highlight": "#FF0000",
    "selected_highlight": "#FFD700",
    "sidebar_border": "#EEEEEE",
    "wrapper_background": "#FFFFFF"
   },
   "moveMenuLeft": true,
   "nav_menu": {
    "height": "84px",
    "width": "252px"
   },
   "navigate_menu": true,
   "number_sections": true,
   "sideBar": true,
   "skip_h1_title": false,
   "threshold": 4,
   "toc_cell": true,
   "toc_section_display": "block",
   "toc_window_display": true,
   "widenNotebook": false
  }
 },
 "nbformat": 4,
 "nbformat_minor": 2
}
