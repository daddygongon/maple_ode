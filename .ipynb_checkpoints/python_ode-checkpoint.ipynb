{
 "cells": [
  {
   "cell_type": "markdown",
   "metadata": {},
   "source": [
    "<div style=\"text-align: center;\">\n",
    "  <font size=\"5\">数値計算による微分方程式解法(python版)</font>\n",
    "</div>\n",
    "<div style=\"text-align: right;\">\n",
    "  <font size=\"3\">cc by Shigeto R. Nishitani</font>\n",
    "</div>\n",
    "\n",
    "\n",
    "* /Users/bob/Desktop/maple_ode/python_ode.ipynb\n",
    "* origin\tgit@github.com:daddygongon/maple_ode.git (fetch)"
   ]
  },
  {
   "cell_type": "markdown",
   "metadata": {
    "toc": "true"
   },
   "source": [
    "# Table of Contents\n",
    " <p><div class=\"lev1 toc-item\"><a href=\"#Euler法による落下運動\" data-toc-modified-id=\"Euler法による落下運動-1\"><span class=\"toc-item-num\">1&nbsp;&nbsp;</span>Euler法による落下運動</a></div><div class=\"lev2 toc-item\"><a href=\"#重力場中の運動\" data-toc-modified-id=\"重力場中の運動-11\"><span class=\"toc-item-num\">1.1&nbsp;&nbsp;</span>重力場中の運動</a></div><div class=\"lev2 toc-item\"><a href=\"#Euler法\" data-toc-modified-id=\"Euler法-12\"><span class=\"toc-item-num\">1.2&nbsp;&nbsp;</span>Euler法</a></div><div class=\"lev2 toc-item\"><a href=\"#重力場中の運動をEuler法で解いたら\" data-toc-modified-id=\"重力場中の運動をEuler法で解いたら-13\"><span class=\"toc-item-num\">1.3&nbsp;&nbsp;</span>重力場中の運動をEuler法で解いたら</a></div><div class=\"lev2 toc-item\"><a href=\"#空気抵抗がある水滴の落下\" data-toc-modified-id=\"空気抵抗がある水滴の落下-14\"><span class=\"toc-item-num\">1.4&nbsp;&nbsp;</span>空気抵抗がある水滴の落下</a></div><div class=\"lev1 toc-item\"><a href=\"#高精度計算\" data-toc-modified-id=\"高精度計算-2\"><span class=\"toc-item-num\">2&nbsp;&nbsp;</span>高精度計算</a></div><div class=\"lev2 toc-item\"><a href=\"#バネの運動\" data-toc-modified-id=\"バネの運動-21\"><span class=\"toc-item-num\">2.1&nbsp;&nbsp;</span>バネの運動</a></div><div class=\"lev2 toc-item\"><a href=\"#2次のRunge-Kuttaの導出\" data-toc-modified-id=\"2次のRunge-Kuttaの導出-22\"><span class=\"toc-item-num\">2.2&nbsp;&nbsp;</span>2次のRunge-Kuttaの導出</a></div><div class=\"lev2 toc-item\"><a href=\"#Runge-Kutta2次公式\" data-toc-modified-id=\"Runge-Kutta2次公式-23\"><span class=\"toc-item-num\">2.3&nbsp;&nbsp;</span>Runge-Kutta2次公式</a></div><div class=\"lev2 toc-item\"><a href=\"#Runge-Kutta4次公式\" data-toc-modified-id=\"Runge-Kutta4次公式-24\"><span class=\"toc-item-num\">2.4&nbsp;&nbsp;</span>Runge-Kutta4次公式</a></div><div class=\"lev2 toc-item\"><a href=\"#連立方程式にRunge-Kutta4次公式を\" data-toc-modified-id=\"連立方程式にRunge-Kutta4次公式を-25\"><span class=\"toc-item-num\">2.5&nbsp;&nbsp;</span>連立方程式にRunge-Kutta4次公式を</a></div><div class=\"lev1 toc-item\"><a href=\"#RLC回路の応答\" data-toc-modified-id=\"RLC回路の応答-3\"><span class=\"toc-item-num\">3&nbsp;&nbsp;</span>RLC回路の応答</a></div><div class=\"lev1 toc-item\"><a href=\"#課題\" data-toc-modified-id=\"課題-4\"><span class=\"toc-item-num\">4&nbsp;&nbsp;</span>課題</a></div><div class=\"lev2 toc-item\"><a href=\"#雨粒\" data-toc-modified-id=\"雨粒-41\"><span class=\"toc-item-num\">4.1&nbsp;&nbsp;</span>雨粒</a></div><div class=\"lev2 toc-item\"><a href=\"#大砲\" data-toc-modified-id=\"大砲-42\"><span class=\"toc-item-num\">4.2&nbsp;&nbsp;</span>大砲</a></div><div class=\"lev2 toc-item\"><a href=\"#RLC回路\" data-toc-modified-id=\"RLC回路-43\"><span class=\"toc-item-num\">4.3&nbsp;&nbsp;</span>RLC回路</a></div><div class=\"lev2 toc-item\"><a href=\"#RLC回路\" data-toc-modified-id=\"RLC回路-44\"><span class=\"toc-item-num\">4.4&nbsp;&nbsp;</span>RLC回路</a></div>"
   ]
  },
  {
   "cell_type": "markdown",
   "metadata": {},
   "source": [
    "# Euler法による落下運動\n",
    "\n",
    "## 重力場中の運動\n",
    "重力場中のボールの落下を考えて，１軸で考えた運動方程式を立てます．\n",
    "\n",
    "$$\n",
    "\\begin{aligned}\n",
    "v &= \\frac{dx}{dt} \\\\\n",
    "a &= \\frac{d^2 x}{dt^2}\n",
    "\\end{aligned}\n",
    "$$\n",
    "質量を$m$, 重力加速度を$g$として，働く力が$F=-mg$であるとすると，ニュートンの運動方程式$F=ma$は，\n",
    "\n",
    "$$ \n",
    "-mg = m \\frac{d^2 x}{dt^2}\n",
    "$$\n",
    "となります．\n",
    "\n",
    "![simple_gravitation_fall](./figs/ode.002.jpeg)\n",
    "\n"
   ]
  },
  {
   "cell_type": "markdown",
   "metadata": {},
   "source": [
    "## Euler法\n",
    "1次の微分方程式の一般形は\n",
    "\n",
    "$$\n",
    "\\frac{dx}{dt}=f(x,t)\n",
    "$$\n",
    "と書けます．この微分方程式を簡単な近似から求めるオイラー法を示します．\n",
    "$x(t+\\delta t)$をテイラー級数展開すると，\n",
    "\n",
    "$$\n",
    "x(t+\\delta t) \\simeq x(t) + \\frac{dx}{dt} \\delta t\n",
    "$$\n",
    "となります．これらを代入すると，計算アルゴリズムはつぎのようになります，\n",
    "\n",
    "$$\n",
    "x_{i+1} = x_i + f_i\\,\\delta t\n",
    "$$\n",
    "ここで，$f_i$は点($x_i, t_i$)における関数の値です．このアルゴリズムを適用して，$t+\\delta t$の座標$x_{i+1}$を一つ前の時間の座標$x_i$から導くことができます．これを重力場中の運動方程式に適用します．\n",
    "\n",
    "## 重力場中の運動をEuler法で解いたら\n",
    "Euler法は一階の微分方程式に対する定式化をしています．ところが，重力場中の運動は2階の微分方程式です．このようなときには媒介変数を導入して1次連立方程式に置き直します．\n",
    "\n",
    "媒介変数として速度$v$を使って，2階の運動方程式\n",
    "$$\n",
    "\\frac{d^2x}{dt^2} = -g \n",
    "$$\n",
    "が，1階の連立方程式\n",
    "$$\n",
    "\\begin{aligned}\n",
    "\\frac{dv}{dt} & = -g \\\\\n",
    "\\frac{dx}{dt} & = v \n",
    "\\end{aligned}\n",
    "$$\n",
    "で置き換えられると考えることに相当します．アルゴリズムにすると，\n",
    "\n",
    "$$\n",
    "\\begin{aligned}\n",
    "v_{i+1} &= v_i - g\\, dt \\\\\n",
    "x_{i+1} &= x_i + v_i\\, dt\n",
    "\\end{aligned}\n",
    "$$\n",
    "なる連立方程式を解くことに置き換わります．これをpythonで関数にして，さらに計算結果を表示させてみます．"
   ]
  },
  {
   "cell_type": "code",
   "execution_count": 1,
   "metadata": {
    "collapsed": true
   },
   "outputs": [],
   "source": [
    "def euler(x0, v0):\n",
    "  v1 = v0 - g * dt\n",
    "  x1 = x0 + v0 * dt\n",
    "  return x1, v1"
   ]
  },
  {
   "cell_type": "markdown",
   "metadata": {},
   "source": [
    "Eulerはx_i, v_iを受け取って，先ほど導いた簡単な計算によって，v_i+1, x_i+1を順次計算して返します．結果は，"
   ]
  },
  {
   "cell_type": "code",
   "execution_count": 2,
   "metadata": {
    "collapsed": true
   },
   "outputs": [],
   "source": [
    "import matplotlib.pyplot as plt\n",
    "\n",
    "def my_plot(xx, vv, tt):\n",
    "    plt.plot(tt, xx, color = 'b')\n",
    "    plt.plot(tt, vv, color = 'r')\n",
    "    plt.grid()\n",
    "    plt.show()"
   ]
  },
  {
   "cell_type": "code",
   "execution_count": 3,
   "metadata": {},
   "outputs": [
    {
     "data": {
      "image/png": "[encoded data removed]",
      "text/plain": [
       "<matplotlib.figure.Figure at 0x110219240>"
      ]
     },
     "metadata": {},
     "output_type": "display_data"
    }
   ],
   "source": [
    "t, g, dt=0.0, 1, 0.1\n",
    "tt,xx,vv=[0.0],[10.0],[0.0]\n",
    "\n",
    "for i in range(0,50):\n",
    "  t += dt\n",
    "  x, v = euler(xx[-1],vv[-1])\n",
    "  tt.append(t)\n",
    "  xx.append(x)\n",
    "  vv.append(v)\n",
    "\n",
    "my_plot(xx, vv, tt)"
   ]
  },
  {
   "cell_type": "markdown",
   "metadata": {},
   "source": [
    "位置(height:$x$)と速度($v$)の時間($t$)変化を表示させています．\n",
    "\n",
    "\n",
    "時間とともに位置は放物線状に変化し，速度は一定の傾きで増加していく，等加速度運動を再現しています．Euler法ではこのように非常に簡単なcodeによって微分方程式で表される現象をシミュレートできることがわかるでしょう．"
   ]
  },
  {
   "cell_type": "markdown",
   "metadata": {},
   "source": [
    "## 空気抵抗がある水滴の落下\n",
    "ballの落下ではわかりにくいですが，より小さな質量の水滴では，速度に比例する空気抵抗が効いてきます．この様子を見ましょう．微分方程式には，\n",
    "\n",
    "$$\n",
    "F_x = - C v_x\n",
    "$$\n",
    "\n",
    "項が付与されます．そうすると運動方程式は\n",
    "\n",
    "$$\n",
    "m \\frac{dv_x}{dt} = - C v_x - mg\n",
    "$$\n",
    "となります．これにともなったv_xの時間変化に対して，今までは単純に重力加速していたのが，v_xに比例する空気抵抗を記述する項が付与されます．この変化をEuler2に入れ込むと少しの修正ですが，結果は劇的に変化します．\n",
    "\n",
    "![gravitation_fall_with_air_resistance](./figs/ode.003.jpeg)\n",
    "\n"
   ]
  },
  {
   "cell_type": "code",
   "execution_count": 4,
   "metadata": {
    "collapsed": true
   },
   "outputs": [],
   "source": [
    "def euler2(x0, v0):\n",
    "  v1 = v0 + (-cc * v0- g) * dt\n",
    "  x1 = x0 + v0 * dt\n",
    "  return [x1, v1]\n"
   ]
  },
  {
   "cell_type": "code",
   "execution_count": 5,
   "metadata": {},
   "outputs": [
    {
     "data": {
      "image/png": "[encoded data removed]",
      "text/plain": [
       "<matplotlib.figure.Figure at 0x1136cd400>"
      ]
     },
     "metadata": {},
     "output_type": "display_data"
    }
   ],
   "source": [
    "g, dt, cc=0.1, 1, 0.1\n",
    "tt,xx,vv=[0.0],[10.0],[0.0]\n",
    "t = 0.0\n",
    "for i in range(0,50):\n",
    "  t += dt\n",
    "  x, v = euler2(xx[-1],vv[-1])\n",
    "  tt.append(t)\n",
    "  xx.append(x)\n",
    "  vv.append(v)\n",
    "\n",
    "my_plot(xx, vv, tt)"
   ]
  },
  {
   "cell_type": "markdown",
   "metadata": {},
   "source": [
    "# 高精度計算\n",
    "\n",
    "## バネの運動\n",
    "今度はバネの運動です．空気抵抗との違いはほんの少しで，\n",
    "$$\n",
    "F_x = -k x\n",
    "$$\n",
    "と今度は，位置xに力が比例することです．そうすると運動方程式は，\n",
    "\n",
    "$$\n",
    "m \\frac{dv_x}{dt} = - k x\n",
    "$$\n",
    "となります．\n",
    "\n",
    "連立方程式は\n",
    "$$\n",
    "\\begin{aligned}\n",
    "\\frac{dv}{dt} & = - \\frac{k}{m}x \\\\\n",
    "\\frac{dx}{dt} & = v\n",
    "\\end{aligned}\n",
    "$$\n",
    "となるんで，アルゴリズムに置き換えると，\n",
    "\n",
    "$$\n",
    "\\begin{aligned}\n",
    "v_{i+1} & = v_i - \\frac{k}{m} x_i\\, dt \\\\\n",
    "x_{i+1} & = x_i + v_i\\, dt\n",
    "\\end{aligned}\n",
    "$$\n",
    "なる連立方程式を解くことに置き換わります．これをMapleで関数にして，さらに計算結果を表示させてみます．\n",
    "\n",
    "![free_oscillation_mass_spring_system](./figs/ode.004.jpeg)\n",
    "\n"
   ]
  },
  {
   "cell_type": "code",
   "execution_count": 6,
   "metadata": {},
   "outputs": [
    {
     "data": {
      "image/png": "[encoded data removed]",
      "text/plain": [
       "<matplotlib.figure.Figure at 0x113846ba8>"
      ]
     },
     "metadata": {},
     "output_type": "display_data"
    }
   ],
   "source": [
    "def euler3(x0,v0):\n",
    "  v1 = v0 +(- k * x0) * dt\n",
    "  x1 = x0 + v0 * dt\n",
    "  return [x1, v1]\n",
    "\n",
    "t, dt, k=0.0, 0.1, 0.01\n",
    "tt,xx,vv=[0.0],[0.0],[0.01]\n",
    "for i in range(0,5000):\n",
    "  t += dt\n",
    "  x, v = euler3(xx[-1],vv[-1])\n",
    "  tt.append(t)\n",
    "  xx.append(x)\n",
    "  vv.append(v)\n",
    "\n",
    "my_plot(xx, vv, tt)"
   ]
  },
  {
   "cell_type": "markdown",
   "metadata": {},
   "source": [
    "kはあらかじめ$m$で割られて正規化されているとします．これをEuler法で計算すると上のような結果が得られます．\n",
    "\n",
    "徐々に発散していく様子がわかると思います．本来，摩擦のないバネは定常的に振動します．この発散の原因は，Euler法の計算誤差が大きいせいです．そこで，より精度の高いRunge-Kutta法を導入します．\n"
   ]
  },
  {
   "cell_type": "markdown",
   "metadata": {},
   "source": [
    "## 2次のRunge-Kuttaの導出\n",
    "一般にRunge-Kutta法と呼ばれる手法は，4次の古典的Runge-Kutta法を指します．導出は意外と面倒なので，2次の場合のさわりを紹介して，そこからの類推としましょう．$x,v,t$などのパラメータ名を変更しますのでご注意あれ．\n",
    "\n",
    "(「ANSI Cによる数値計算法」堀之内聰一，酒井幸吉，榎園茂，森北2002, p.133)\n",
    "テイラー展開により，$h^2$の精度まで展開する．\n",
    "$$\n",
    "y(x_0+h) = y(x_0) +y_0'h+\\frac{1}{2!}y_0''h^2 + O(h^3)\n",
    "$$\n",
    "\n",
    "この式において，$y_0' = f(x_0,y_0)$は既知とする．一方，$y_0''$は$f(x_0,y_0)$から直接的には求められない．したがって，この式の右辺と$h^2$の項まで一致する近似値を，$f(x_0,y_0)$だけを既知として算出する方法を考えよう．\n",
    "\n",
    "平均値の定理より，\n",
    "$$\n",
    "\\Delta y = y(x_0+h)-y(x_0) = hy'(x_0 + \\theta h), \\, 0<\\theta<1\n",
    "$$\n",
    "\n",
    "$y'(x_0 +\\theta h)$の近似値として，$\\theta=0, \\theta=1$の場合を考えると，\n",
    "$$\n",
    "\\begin{aligned}\n",
    "\\Delta y &\\simeq hy'(x_0) \\, &{\\textrm where}\\, &\\theta=0\\\\\n",
    "\\Delta y &\\simeq hy'(x_0+h)  \\, &{\\textrm where}\\, &\\theta=1\n",
    "\\end{aligned}\n",
    "$$\n",
    "これらの値は単独では$\\Delta y$に対して$h^2$の精度をもつ近似値にならないが，これらの一次結合$\\alpha h y'(x_0)+\\beta hy'(x_0+h)$を$\\alpha, \\beta$をうまく定めることによって，$\\Delta y$の$h^2$の精度をもつ近似値にすることができる．実際，\n",
    "$$\n",
    "\\begin{aligned}\n",
    "\\alpha h y'(x_0)+\\beta hy'(x_0+h) & =\\alpha h y'(x_0)+\\beta h \\{y'(x+0)+y''(x_0)h+O(h^2)\\} \\\\\n",
    "& =(\\alpha+\\beta)hy'_0 + \\beta h^2 y_0'' + O(h^3)\n",
    "\\end{aligned}\n",
    "$$\n",
    "\n",
    "したがって，テイラー展開式と係数を比較して，\n",
    "$$\n",
    "\\begin{aligned}\n",
    "\\alpha + \\beta = 1, \\, \\beta = \\frac{1}{2}\\\\\n",
    "\\alpha = \\frac{1}{2}, \\, \\beta =\\frac{1}{2}\n",
    "\\end{aligned}$$\n",
    "となり，\n",
    "\n",
    "$$\n",
    "\\Delta y = \\frac{1}{2}hy'(x_0) + \\frac{1}{2}hy'(x_0+h)+O(h^3)\n",
    "$$\n",
    "\n",
    "いま，\n",
    "$$\n",
    "k_1 =hy'(x_0) =hf(x_0,y_0)\n",
    "$$\n",
    "\n",
    "とおこう．上式に代入して，\n",
    "$$\n",
    "\\begin{aligned}\n",
    "hy'(x_0+h) &= hf(x_0+h,y(x_0+h)) \\\\\n",
    "& =hf(x_0+h, y(x_0)+y'(x_o)h+O(h^2)) \\\\\n",
    "& =hf(x_0+h, y_0+k_1+O(h^2)) \\\\\n",
    "& =hf(x_0+h, y_0+k_1)+O(h^2)\n",
    "\\end{aligned}$$\n",
    "\n",
    "したがって，\n",
    "$$\n",
    "k_2 = hf(x_0+h, y_0+k_1)\n",
    "$$\n",
    "とおけば，\n",
    "$$\n",
    "\\Delta y = \\frac{1}{2}k_1 + \\frac{1}{2}k_2 + O(h^3)\n",
    "$$\n",
    "となる．これより，\n",
    "$$\n",
    "k = \\frac{1}{2}(k_1+k_2), y_1 = y_0 +k\n",
    "$$\n",
    "\n",
    "とおくと，$y(x_0+h) = y_1+O(h^3)$となり，$y_1$は$h^2$の精度の近似値となる．"
   ]
  },
  {
   "cell_type": "markdown",
   "metadata": {},
   "source": [
    "## Runge-Kutta2次公式\n",
    "こうして得られたRunge-Kuttaの２次の公式を定義すると次の通りです．\n",
    "\n",
    "微分方程式\n",
    "$$\n",
    "\\frac{dy}{dx} = f(x,y), \\, where \\, y(x_0)=y_0\n",
    "$$\n",
    "\n",
    "の数値解は，刻み幅を$h$，$x_n=x_0+nh$として，次の漸化式\n",
    "$$\n",
    "y_{n+1} = y_n +k (n=0,1,2,\\cdots)\n",
    "$$\n",
    "で与えられる．ここに，$k$は次で定める．\n",
    "$$\n",
    "\\begin{aligned}\n",
    "k_1 & = hf(x_n,y_n), \\\\\n",
    "k_2 & = hf(x_n+h, y_n+k_1), \\\\\n",
    "k & = \\frac{1}{2}(k_1+k_2)\n",
    "\\end{aligned}\n",
    "$$"
   ]
  },
  {
   "cell_type": "markdown",
   "metadata": {},
   "source": [
    "## Runge-Kutta4次公式\n",
    "2次と同様の考え方で，$h^4$の精度を持つRunge-Kutta４次公式を作ることができる．\n",
    "\n",
    "微分方程式\n",
    "$$\n",
    "\\frac{dy}{dx} = f(x,y), \\, {\\textrm where}y(x_0)=y_0\n",
    "$$\n",
    "\n",
    "の数値解は，刻み幅を$h$，$x_n=x_0+nh$として，次の漸化式\n",
    "$$\n",
    "y_{n+1} = y_n +k (n=0,1,2,\\cdots)\n",
    "$$\n",
    "で与えられる．ここに，$k$は次で定める．\n",
    "$$\n",
    "\\begin{aligned}\n",
    "k_1 & = hf(x_n,y_n), \\\\\n",
    "k_2 & = hf(x_n+\\frac{h}{2}, y_n+\\frac{k_1}{2}), \\\\\n",
    "k_3 & = hf(x_n+\\frac{h}{2}, y_n+\\frac{k_2}{2}), \\\\\n",
    "k_4 & = hf(x_n+h, y_n+k_3), \\\\\n",
    "k & = \\frac{1}{6}(k_1+2k_2+2k_3+k_4)\n",
    "\\end{aligned}\n",
    "$$"
   ]
  },
  {
   "cell_type": "markdown",
   "metadata": {},
   "source": [
    "## 連立方程式にRunge-Kutta4次公式を\n",
    "連立微分方程式\n",
    "$$\n",
    "\\begin{aligned}\n",
    "\\frac{dy}{dx} &= f(x,y,z), &\\, \\, where \\, y(x_0)=y_0 \\\\\n",
    "\\frac{dz}{dx} &= g(x,y,z), &\\, \\, where \\, z(x_0)=z_0 \\\\\n",
    "\\end{aligned}\n",
    "$$\n",
    "\n",
    "の数値解は，刻み幅を$h$，$x_n=x_0+nh$として，次の漸化式\n",
    "$$\n",
    "\\begin{aligned}\n",
    "y_{n+1} & = y_n +k &\\, (n=0,1,2,\\cdots) \\\\\n",
    "z_{n+1} & = z_n +l &\\, (n=0,1,2,\\cdots) \\\\\n",
    "\\end{aligned}\n",
    "$$\n",
    "で与えられる．ここに，$k,l$は次で定める．\n",
    "$$\n",
    "\\begin{aligned}\n",
    "k_1 &= hf(x_n,y_n,z_n), \\,\n",
    "&l_1 &= hg(x_n,y_n,z_n), \\\\\n",
    "k_2 &= hf(x_n+\\frac{h}{2}, y_n+\\frac{k_1}{2}, z_n+\\frac{l_1}{2}), \\,\n",
    "&l_2 &= hg(x_n+\\frac{h}{2}, y_n+\\frac{k_1}{2}, z_n+\\frac{l_1}{2}), \\\\\n",
    "k_3 &= hf(x_n+\\frac{h}{2}, y_n+\\frac{k_2}{2}, z_n+\\frac{l_2}{2}), \\,\n",
    "&l_3 &= hg(x_n+\\frac{h}{2}, y_n+\\frac{k_2}{2}, z_n+\\frac{l_2}{2}), \\\\\n",
    "k_4 &= hf(x_n+h, y_n+k_3, z_n+l_3), \\,\n",
    "&l_4 &= hg(x_n+h, y_n+k_3, z_n+l_3), \\\\\n",
    "k &= \\frac{1}{6}(k_1+2k_2+2k_3+k_4), \\,\n",
    "&l &= \\frac{1}{6}(l_1+2l_2+2l_3+l_4)\n",
    "\\end{aligned}\n",
    "$$"
   ]
  },
  {
   "cell_type": "code",
   "execution_count": 7,
   "metadata": {
    "collapsed": true
   },
   "outputs": [],
   "source": [
    "def runge_kutta4(x0,y0,z0,h):\n",
    "  k1= h * ff(x0, y0, z0);\n",
    "  l1= h * gg(x0, y0, z0);\n",
    "  k2= h * ff(x0 + h/2, y0 + k1/2, z0 + l1/2)\n",
    "  l2= h * gg(x0 + h/2, y0 + k1/2, z0 + l1/2)\n",
    "  k3= h * ff(x0 + h/2, y0 + k2/2, z0 + l2/2)\n",
    "  l3= h * gg(x0 + h/2, y0 + k2/2, z0 + l2/2)\n",
    "  k4= h * ff(x0 + h,   y0 + k3,   z0 + l3)\n",
    "  l4= h * gg(x0 + h,   y0 + k3,   z0 + l3)\n",
    "  kk= 1.0/6*(k1 + 2*k2 + 2*k3 + k4)\n",
    "  ll= 1.0/6*(l1 + 2*l2 + 2*l3 + l4)\n",
    "  return [kk,ll]"
   ]
  },
  {
   "cell_type": "markdown",
   "metadata": {},
   "source": [
    "Runge-Kuttaの４次公式をそのままcodingすると上のようになります．これを先ほどのバネ運動の問題に当てはめてみましょう．\n",
    "\n",
    "先ほど導出した運動方程式の漸化式\n",
    "$$\n",
    "\\begin{aligned}\n",
    "v_{i+1} & = v_i - \\frac{k}{m} x_i\\, dt \\\\\n",
    "x_{i+1} & = x_i + v_i\\, dt\n",
    "\\end{aligned}\n",
    "$$\n",
    "\n",
    "とRunge-Kutta4次公式を示した連立微分方程式\n",
    "$$\n",
    "\\begin{aligned}\n",
    "\\frac{dy}{dx} &= f(x,y,z), \\, where \\, y(x_0)=y_0 \\\\\n",
    "\\frac{dz}{dx} &= g(x,y,z), \\, where \\, z(x_0)=z_0 \\\\\n",
    "\\end{aligned}\n",
    "$$\n",
    "とを比べて，変数の表記の違いと関数$f,g$を具体的に書き下します．\n",
    "\n",
    "| 4次の公式 | 運動方程式 |\n",
    "|:-----:|:-----:|\n",
    "|x | t |\n",
    "|y | x |\n",
    "|z | v |\n",
    "|f(x,y,z) | f(t,x,v) = v |\n",
    "|g(x,y,z) | g(t,x,v) = -k x |\n",
    "\n",
    "この変数の書き換えを吸収する中間関数としてEuler3を書き換えます．RungeKutta4の仮引数を上の表に従って置き換えて，数値を渡しています．また，関数$f,g$も定義しておきます．"
   ]
  },
  {
   "cell_type": "code",
   "execution_count": 8,
   "metadata": {},
   "outputs": [
    {
     "data": {
      "image/png": "[encoded data removed]",
      "text/plain": [
       "<matplotlib.figure.Figure at 0x11381ef98>"
      ]
     },
     "metadata": {},
     "output_type": "display_data"
    }
   ],
   "source": [
    "def ff(t,x,v):\n",
    "  return v\n",
    "\n",
    "def gg(t,x,v):\n",
    "  return -k*x\n",
    "\n",
    "def euler4(x0, v0):\n",
    "  kk,ll = runge_kutta4(0, x0, v0, dt)\n",
    "  x1 = x0 + kk\n",
    "  v1 = v0 + ll\n",
    "  return [x1, v1]\n",
    "\n",
    "t, dt, k=0.0, 0.1, 0.01\n",
    "tt,xx,vv=[0.0],[0.0],[0.01]\n",
    "for i in range(0,5000):\n",
    "  t += dt\n",
    "  x, v = euler4(xx[-1],vv[-1])\n",
    "  tt.append(t)\n",
    "  xx.append(x)\n",
    "  vv.append(v)\n",
    "\n",
    "my_plot(xx, vv, tt)"
   ]
  },
  {
   "cell_type": "markdown",
   "metadata": {},
   "source": [
    "これを前と同様に走らせると\n",
    "発散も収束もすることなく，定常的に振動を繰り返していることが見て取れます．"
   ]
  },
  {
   "cell_type": "markdown",
   "metadata": {},
   "source": [
    "# RLC回路の応答\n",
    "電気回路の応答を考えましょう．R(resistor,抵抗)L(inductor,コイル)C(capacitor,コンデンサー)をそれぞれふたつずつ組み合わせてみていくのが常套手段なんですが，一個ずつだと面倒なので，まずは全部入れた方程式を立てます．そこからパラメータを変えて回路の挙動を観察します．こんなとこから進めていけるのが，数値計算の利点です．どんなんでも解けるから．\n",
    "\n",
    "コンデンサに蓄えられた電荷を$Q(t)$, 回路に流れる電流を$I(t)$とします．\n",
    "\n",
    "* 自己インダクタンス$L$のコイルにかかる電圧は$L \\frac{dI}{dt}$\n",
    "* 容量$C$のコンデンサにかかる電圧は$\\frac{Q}{C}$\n",
    "* 抵抗値$R$の抵抗に掛かる電圧は$RI$\n",
    "\n",
    "となります．コイルにかかる電圧，コンデンサにかかる電圧，抵抗にかかる電圧の和が，この回路にかけた電圧$V(t)$であることを使うと，\n",
    "\n",
    "$$\n",
    "L \\frac{dI}{dt} + \\frac{Q}{C} + RI = V(t)\n",
    "$$\n",
    "\n",
    "となります．ここで電流$I$とコンデンサの電荷$Q$の関係$I=\\frac{dQ}{dt}$を使うと，\n",
    "\n",
    "$$\n",
    "L \\frac{d^2Q}{dt^2} + \\frac{Q}{C} + R\\frac{dQ}{dt} = V{t}\n",
    "$$\n",
    "が得られます．\n",
    "\n",
    "先ほどの重力系の問題と比べると\n",
    "\n",
    "$$\n",
    "v \\rightarrow i \\\\\n",
    "x \\rightarrow q\n",
    "$$\n",
    "と置き換えれば良さそうです．\n",
    "\n",
    "そうするとアルゴリズムは，\n",
    "$$\n",
    "\\begin{aligned}\n",
    "i_{i+1} & = i_i + (V - RR \\, i_i -qc \\, q_i) \\, dt \\\\\n",
    "q_{i+1} & = q_i + i_i \\, dt;\n",
    "\\end{aligned}\n",
    "$$\n",
    "となりそうです．RRやqcには適当に規格化した値をいれます．\n",
    "\n",
    "![rlc_circuit](./figs/ode.005.jpeg)\n",
    "\n"
   ]
  },
  {
   "cell_type": "code",
   "execution_count": 9,
   "metadata": {
    "collapsed": true
   },
   "outputs": [],
   "source": [
    "def euler_rlc(q0, i0):\n",
    "  i1 = i0 + (v - r * i0 - qc * q0) * dt\n",
    "  q1 = q0 + i0 * dt\n",
    "  return [q1, i1]"
   ]
  },
  {
   "cell_type": "markdown",
   "metadata": {},
   "source": [
    "コンデンサー($C$),コンダクター($L$)を1として，抵抗値を0.5として，入力電圧を1Vと設定してコンデンサーにたまる電荷と電流の変化を確かめたのが次の図です．\n"
   ]
  },
  {
   "cell_type": "code",
   "execution_count": 10,
   "metadata": {},
   "outputs": [
    {
     "data": {
      "image/png": "[encoded data removed]",
      "text/plain": [
       "<matplotlib.figure.Figure at 0x11382eba8>"
      ]
     },
     "metadata": {},
     "output_type": "display_data"
    }
   ],
   "source": [
    "dt, r, qc, v =0.01, 0.5, 1, 1\n",
    "ii=[0.0]\n",
    "qq=[0.0]\n",
    "tt=[0.0]\n",
    "t = 0\n",
    "for i in range(0,2000):\n",
    "  t += dt\n",
    "  q, i2 = euler_rlc(qq[i],ii[i])\n",
    "  tt.append(t)\n",
    "  qq.append(q)\n",
    "  ii.append(i2)\n",
    "\n",
    "my_plot(qq,ii,tt)"
   ]
  },
  {
   "cell_type": "markdown",
   "metadata": {},
   "source": [
    "入力電圧を0V，コンデンサーにあらかじめ1クーロン貯めたと設定して電荷と電流の時間変化を確かめたのが次の図です．\n"
   ]
  },
  {
   "cell_type": "code",
   "execution_count": 11,
   "metadata": {},
   "outputs": [
    {
     "data": {
      "image/png": "[encoded data removed]",
      "text/plain": [
       "<matplotlib.figure.Figure at 0x113631198>"
      ]
     },
     "metadata": {},
     "output_type": "display_data"
    }
   ],
   "source": [
    "dt, r, qc, v =0.01, 0.5, 1, 0\n",
    "ii=[0.0]\n",
    "qq=[1.0]\n",
    "tt=[0.0]\n",
    "t = 0\n",
    "for i in range(0,2000):\n",
    "  t += dt\n",
    "  q, i2 = euler_rlc(qq[i],ii[i])\n",
    "  tt.append(t)\n",
    "  qq.append(q)\n",
    "  ii.append(i2)\n",
    "\n",
    "my_plot(qq,ii,tt)"
   ]
  },
  {
   "cell_type": "markdown",
   "metadata": {},
   "source": [
    "# 課題\n",
    "\n",
    "## 雨粒\n",
    "空気抵抗を受ける雨粒の速度の変化を自分の言葉で説明しなさい．\n",
    "\n",
    "## 大砲\n",
    "free fallの初期設定を変えて，x=0から鉛直方向にv=1で投げ上げたボールの時間変化を示しなさい．\n",
    "\n",
    "## RLC回路\n",
    "抵抗が0の場合の電荷，電流の変化を確認しなさい．\n",
    "\n",
    "## RLC回路\n",
    "抵抗が0の場合にも，エネルギー保存が成り立つようにコードを改良しなさい．\n"
   ]
  }
 ],
 "metadata": {
  "kernelspec": {
   "display_name": "Python 3",
   "language": "python",
   "name": "python3"
  },
  "language_info": {
   "codemirror_mode": {
    "name": "ipython",
    "version": 3
   },
   "file_extension": ".py",
   "mimetype": "text/x-python",
   "name": "python",
   "nbconvert_exporter": "python",
   "pygments_lexer": "ipython3",
   "version": "3.6.1"
  },
  "latex_envs": {
   "LaTeX_envs_menu_present": true,
   "autocomplete": true,
   "bibliofile": "biblio.bib",
   "cite_by": "apalike",
   "current_citInitial": 1,
   "eqLabelWithNumbers": true,
   "eqNumInitial": 1,
   "hotkeys": {
    "equation": "Ctrl-E",
    "itemize": "Ctrl-I"
   },
   "labels_anchors": false,
   "latex_user_defs": false,
   "report_style_numbering": false,
   "user_envs_cfg": false
  },
  "toc": {
   "colors": {
    "hover_highlight": "#DAA520",
    "navigate_num": "#000000",
    "navigate_text": "#333333",
    "running_highlight": "#FF0000",
    "selected_highlight": "#FFD700",
    "sidebar_border": "#EEEEEE",
    "wrapper_background": "#FFFFFF"
   },
   "moveMenuLeft": true,
   "nav_menu": {
    "height": "192px",
    "width": "252px"
   },
   "navigate_menu": true,
   "number_sections": true,
   "sideBar": true,
   "threshold": 4,
   "toc_cell": true,
   "toc_section_display": "block",
   "toc_window_display": true,
   "widenNotebook": false
  }
 },
 "nbformat": 4,
 "nbformat_minor": 2
}
