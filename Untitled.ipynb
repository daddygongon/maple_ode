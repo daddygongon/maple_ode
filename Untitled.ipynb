{
 "cells": [
  {
   "cell_type": "markdown",
   "metadata": {
    "toc": "true"
   },
   "source": [
    "# Table of Contents\n",
    " <p><div class=\"lev1 toc-item\"><a href=\"#Euler法，Runge-Kutta法による微分方程式解法\" data-toc-modified-id=\"Euler法，Runge-Kutta法による微分方程式解法-1\"><span class=\"toc-item-num\">1&nbsp;&nbsp;</span>Euler法，Runge-Kutta法による微分方程式解法</a></div><div class=\"lev1 toc-item\"><a href=\"#Euler法による落下運動\" data-toc-modified-id=\"Euler法による落下運動-2\"><span class=\"toc-item-num\">2&nbsp;&nbsp;</span>Euler法による落下運動</a></div><div class=\"lev2 toc-item\"><a href=\"#重力場中の運動\" data-toc-modified-id=\"重力場中の運動-21\"><span class=\"toc-item-num\">2.1&nbsp;&nbsp;</span>重力場中の運動</a></div>"
   ]
  },
  {
   "cell_type": "markdown",
   "metadata": {},
   "source": [
    "# Euler法，Runge-Kutta法による微分方程式解法\n",
    "* /Users/bob/Desktop/maple_ode/ode_ruby.ipynb\n",
    "* origin\tgit@github.com:daddygongon/maple_ode.git (fetch)\n",
    "* cc 2017 by Shigeto R. Nishitani\n"
   ]
  },
  {
   "cell_type": "markdown",
   "metadata": {},
   "source": [
    "# Euler法による落下運動\n",
    "\n",
    "## 重力場中の運動\n",
    "重力場中のボールの落下を考えて，１軸で考えた運動方程式を立てます．\n",
    "\n",
    "$$\n",
    "\\begin{aligned}\n",
    "v &= \\frac{dx}{dt} \\\\\n",
    "a &= \\frac{d^2 x}{dt^2}\n",
    "\\end{aligned}\n",
    "$$\n",
    "質量を$m$, 重力加速度を$g$として，働く力が$F=-mg$であるとすると，ニュートンの運動方程式$F=ma$は，\n",
    "\n",
    "$$ \n",
    "-mg = m \\frac{d^2 x}{dt^2}\n",
    "$$\n",
    "となります．\n",
    "\n",
    "![simple_gravitation_fall](./figs/ode.002.jpeg)\n",
    "\n"
   ]
  },
  {
   "cell_type": "code",
   "execution_count": null,
   "metadata": {
    "collapsed": true
   },
   "outputs": [],
   "source": []
  }
 ],
 "metadata": {
  "kernelspec": {
   "display_name": "Ruby 2.2.2",
   "language": "ruby",
   "name": "ruby"
  },
  "language_info": {
   "file_extension": ".rb",
   "mimetype": "application/x-ruby",
   "name": "ruby",
   "version": "2.2.2"
  },
  "latex_envs": {
   "LaTeX_envs_menu_present": true,
   "autocomplete": true,
   "bibliofile": "biblio.bib",
   "cite_by": "apalike",
   "current_citInitial": 1,
   "eqLabelWithNumbers": true,
   "eqNumInitial": 1,
   "hotkeys": {
    "equation": "Ctrl-E",
    "itemize": "Ctrl-I"
   },
   "labels_anchors": false,
   "latex_user_defs": false,
   "report_style_numbering": false,
   "user_envs_cfg": false
  },
  "toc": {
   "colors": {
    "hover_highlight": "#DAA520",
    "navigate_num": "#000000",
    "navigate_text": "#333333",
    "running_highlight": "#FF0000",
    "selected_highlight": "#FFD700",
    "sidebar_border": "#EEEEEE",
    "wrapper_background": "#FFFFFF"
   },
   "moveMenuLeft": true,
   "nav_menu": {
    "height": "12px",
    "width": "252px"
   },
   "navigate_menu": true,
   "number_sections": true,
   "sideBar": true,
   "threshold": 4,
   "toc_cell": true,
   "toc_section_display": "block",
   "toc_window_display": true,
   "widenNotebook": false
  }
 },
 "nbformat": 4,
 "nbformat_minor": 2
}
